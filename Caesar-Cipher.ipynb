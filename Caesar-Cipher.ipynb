{
 "cells": [
  {
   "cell_type": "code",
   "execution_count": 13,
   "metadata": {},
   "outputs": [],
   "source": [
    "# Define the lists\n",
    "alphabet = [\n",
    "    'a', 'b', 'c', 'd', 'e', 'f', 'g', 'h', 'i', 'j', 'k', 'l', 'm',\n",
    "    'n', 'o', 'p', 'q', 'r', 's', 't', 'u', 'v', 'w', 'x', 'y', 'z'\n",
    "]\n"
   ]
  },
  {
   "cell_type": "code",
   "execution_count": 14,
   "metadata": {},
   "outputs": [],
   "source": [
    "#Define inputs\n",
    "text = 'python is fun!'\n",
    "#input(\"Ty[e your message:\\n\\n\")]\")\n",
    "\n",
    "shift_amount = 5"
   ]
  },
  {
   "cell_type": "code",
   "execution_count": 15,
   "metadata": {},
   "outputs": [],
   "source": [
    "# Create function that checks if value is in list\n",
    "def is_value_in_list(value, target_list):\n",
    "    for item in target_list:\n",
    "        if value == item:\n",
    "            return True\n",
    "        False\n",
    "        \n",
    "        \n",
    "        \n",
    "    \n",
    "    "
   ]
  },
  {
   "cell_type": "code",
   "execution_count": 16,
   "metadata": {},
   "outputs": [],
   "source": [
    "#Create function that decrypts string by shift\n",
    "def decrypt(plain_text_string, shift_amount):\n",
    "    alphabet = 'abcdefghijklmnopqrstuvwxyz'\n",
    "    decrypted_list  = []\n",
    "    \n",
    "    for plain_item in plain_text_string:\n",
    "        if plain_item in alphabet:\n",
    "            index = alphabet.index(plain_item)\n",
    "            if (index - shift_amount) < 0:\n",
    "                shifted_value = (index - (shift_amount % 25))\n",
    "                plain_text = alphabet[shifted_value]\n",
    "            else:\n",
    "                plain_text = alphabet[index - shift_amount] \n",
    "            decrypted_list.append(plain_text)\n",
    "    decrypted_string = \"\".join(decrypted_list)\n",
    "    print(f\"The decrypted message is: {decrypted_string}\")"
   ]
  },
  {
   "cell_type": "code",
   "execution_count": 17,
   "metadata": {},
   "outputs": [
    {
     "name": "stdout",
     "output_type": "stream",
     "text": [
      "The decrypted message is: ktocjidnapi\n"
     ]
    }
   ],
   "source": [
    "decrypt(text, shift_amount)"
   ]
  }
 ],
 "metadata": {
  "kernelspec": {
   "display_name": "Python 3",
   "language": "python",
   "name": "python3"
  },
  "language_info": {
   "codemirror_mode": {
    "name": "ipython",
    "version": 3
   },
   "file_extension": ".py",
   "mimetype": "text/x-python",
   "name": "python",
   "nbconvert_exporter": "python",
   "pygments_lexer": "ipython3",
   "version": "3.9.6"
  }
 },
 "nbformat": 4,
 "nbformat_minor": 2
}
