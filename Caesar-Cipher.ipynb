{
 "cells": [
  {
   "cell_type": "code",
   "execution_count": 1,
   "metadata": {},
   "outputs": [],
   "source": [
    "# Define the lists\n",
    "# Define the lowercase and uppercase letters\n",
    "alphabet_lower = 'abcdefghijklmnopqrstuvwxyz'\n",
    "alphabet_upper = alphabet_lower.upper()\n",
    "\n",
    "\n"
   ]
  },
  {
   "cell_type": "code",
   "execution_count": 2,
   "metadata": {},
   "outputs": [],
   "source": [
    "# Shift the alphabets by 5 using modular arithmetic\n",
    "shifted_alphabet_lower = alphabet_lower[5:] + alphabet_lower[:5]\n",
    "shifted_alphabet_upper = alphabet_upper[5:] + alphabet_upper[:5]\n",
    "\n",
    "# Input text to encrypt\n",
    "plaintext = input(\"Enter the text to encrypt: \")"
   ]
  },
  {
   "cell_type": "code",
   "execution_count": 3,
   "metadata": {},
   "outputs": [],
   "source": [
    "# Encryption process\n",
    "encrypted_text = \"\"\n",
    "for char in plaintext:\n",
    "    # Check if the letter is an alphabet letter\n",
    "    if char.isalpha():\n",
    "        # Check if the letter is uppercase\n",
    "        if char.isupper():\n",
    "            # Find the index of the letter in the original alphabet\n",
    "            index = alphabet_upper.find(char)\n",
    "            # Apply the shift and handle wrapping using modular arithmetic\n",
    "            encrypted_char = shifted_alphabet_upper[index % 26]\n",
    "            # Append the encrypted character to the result\n",
    "            encrypted_text += encrypted_char\n",
    "        else:\n",
    "            # Find the index of the letter in the original lowercase alphabet\n",
    "            index = alphabet_lower.find(char)\n",
    "            # Apply the shift and handle wrapping using modular arithmetic\n",
    "            encrypted_char = shifted_alphabet_lower[index % 26]\n",
    "            # Append the encrypted character to the result\n",
    "            encrypted_text += encrypted_char\n",
    "    else:\n",
    "        # If the character is not an alphabet letter, keep it unchanged\n",
    "        encrypted_text += char\n",
    "        \n",
    "        \n",
    "        \n",
    "    \n",
    "    "
   ]
  },
  {
   "cell_type": "code",
   "execution_count": 4,
   "metadata": {},
   "outputs": [
    {
     "name": "stdout",
     "output_type": "stream",
     "text": [
      "Encrypted: udymts nx kzs!\n"
     ]
    }
   ],
   "source": [
    "# Output the encrypted text\n",
    "print(\"Encrypted:\", encrypted_text)"
   ]
  }
 ],
 "metadata": {
  "kernelspec": {
   "display_name": "Python 3",
   "language": "python",
   "name": "python3"
  },
  "language_info": {
   "codemirror_mode": {
    "name": "ipython",
    "version": 3
   },
   "file_extension": ".py",
   "mimetype": "text/x-python",
   "name": "python",
   "nbconvert_exporter": "python",
   "pygments_lexer": "ipython3",
   "version": "3.9.6"
  }
 },
 "nbformat": 4,
 "nbformat_minor": 2
}
